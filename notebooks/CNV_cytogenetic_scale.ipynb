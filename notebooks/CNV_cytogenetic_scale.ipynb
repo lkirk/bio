{
 "cells": [
  {
   "cell_type": "code",
   "execution_count": null,
   "metadata": {},
   "outputs": [],
   "source": [
    "from pathlib import Path\n",
    "\n",
    "import matplotlib.pyplot as plt\n",
    "import numpy as np"
   ]
  },
  {
   "cell_type": "code",
   "execution_count": null,
   "metadata": {},
   "outputs": [],
   "source": [
    "%matplotlib inline\n",
    "plt.rcParams['figure.figsize'] = [8, 4]\n",
    "plt.rcParams['font.size'] = 12"
   ]
  },
  {
   "cell_type": "code",
   "execution_count": null,
   "metadata": {},
   "outputs": [],
   "source": [
    "WF_OUT = '~/analysis/1000kg_cnv/workflow-out'\n",
    "SAMPLES = {\n",
    "    'HG00261': ['1_000', '10_000', '50_000', '25_000'],\n",
    "    'HG00096': ['1_000', '50_000', '25_000', '10_000'],\n",
    "}"
   ]
  },
  {
   "cell_type": "code",
   "execution_count": null,
   "metadata": {},
   "outputs": [],
   "source": [
    "sample_bam_map = { \n",
    "    'HG00261': '/usr/home/lkirk/data/ftp.1000genomes.ebi.ac.uk/vol1/ftp/phase3/data/HG00261/alignment/HG00261.mapped.ILLUMINA.bwa.GBR.low_coverage.20130415.bam',\n",
    "    'HG00096': '/usr/home/lkirk/data/ftp.1000genomes.ebi.ac.uk/vol1/ftp/phase3/data/HG00096/alignment/HG00096.mapped.ILLUMINA.bwa.GBR.low_coverage.20120522.bam' \n",
    "} "
   ]
  },
  {
   "cell_type": "code",
   "execution_count": null,
   "metadata": {},
   "outputs": [],
   "source": [
    "def get_counts_path(workflow_dir, sample_id, bin_size, must_exist=True):\n",
    "    counts_path = Path(workflow_dir).expanduser() / sample_id / bin_size / 'readcounts.npz'\n",
    "    if counts_path.exists():\n",
    "        return counts_path\n",
    "    else:\n",
    "        if must_exist:\n",
    "            raise Exception(f'{counts_path} does not exist')\n",
    "\n",
    "\n",
    "def read_counts(wf_dir, sample_id, bin_size):\n",
    "    counts_path = get_counts_path(wf_dir, sample_id, bin_size)\n",
    "    return np.load(counts_path, allow_pickle=False)"
   ]
  },
  {
   "cell_type": "code",
   "execution_count": null,
   "metadata": {},
   "outputs": [],
   "source": [
    "# plt.bar(list(bins.keys()), np.array([len(bins[contig]) for contig in bins]))\n",
    "# plt.xticks(rotation=90)\n",
    "# plt.show()"
   ]
  },
  {
   "cell_type": "markdown",
   "metadata": {},
   "source": [
    "http://xarray.pydata.org/en/stable/indexing.html\n",
    "\n",
    "https://samtools.github.io/hts-specs/SAMv1.pdf\n",
    "\n",
    "https://github.com/pydata/xarray/issues/1603"
   ]
  },
  {
   "cell_type": "code",
   "execution_count": null,
   "metadata": {},
   "outputs": [],
   "source": [
    "# plt.hist(normed_counts, bins=100)\n",
    "# plt.axvline(normed_counts.mean(), c='r')\n",
    "# plt.axvline(np.median(normed_counts), c='y')\n",
    "# plt.show()"
   ]
  },
  {
   "cell_type": "code",
   "execution_count": null,
   "metadata": {},
   "outputs": [],
   "source": [
    "readcounts = read_counts(WF_OUT, 'HG00096', '10_000')"
   ]
  },
  {
   "cell_type": "code",
   "execution_count": null,
   "metadata": {},
   "outputs": [],
   "source": [
    "CHROMOSOMES = list(map(str, range(1, 22 + 1))) + ['X', 'Y']"
   ]
  },
  {
   "cell_type": "code",
   "execution_count": null,
   "metadata": {},
   "outputs": [],
   "source": [
    "int(len(CHROMOSOMES) / 3)"
   ]
  },
  {
   "cell_type": "code",
   "execution_count": null,
   "metadata": {},
   "outputs": [],
   "source": [
    "fig, axes = plt.subplots(int(len(CHROMOSOMES) / 3), 3, figsize=(8 * 3, 4 * 8))\n",
    "axes = axes.flatten()\n",
    "for i, contig in enumerate(CHROMOSOMES):\n",
    "    counts = readcounts[contig]\n",
    "    normed_counts = counts / counts.sum()\n",
    "    baseline = normed_counts.mean()\n",
    "#     ax = plt.subplot()\n",
    "    ax = axes[i]\n",
    "    ax.plot(normed_counts, 'C0.', alpha=.4)\n",
    "    ax.plot(-(baseline - normed_counts), 'r', alpha=.4)\n",
    "    ax.set_title(contig)\n",
    "fig.tight_layout()\n",
    "plt.show()"
   ]
  },
  {
   "cell_type": "code",
   "execution_count": null,
   "metadata": {},
   "outputs": [],
   "source": [
    "# from bio.countreads import generate_bins\n",
    "# bins = {contig: dict(zip(('start', 'stop'), np.array(coord).T))\n",
    "#         for contig, coord in generate_bins(in_bam, 50_000)}\n",
    "# def get_region_mask(contig, start, stop):\n",
    "#     contig_bins = bins[contig]\n",
    "#     return (contig_bins['start'] > start) & (contig_bins['stop'] <= stop)"
   ]
  }
 ],
 "metadata": {
  "kernelspec": {
   "display_name": "Python 3",
   "language": "python",
   "name": "python3"
  },
  "language_info": {
   "codemirror_mode": {
    "name": "ipython",
    "version": 3
   },
   "file_extension": ".py",
   "mimetype": "text/x-python",
   "name": "python",
   "nbconvert_exporter": "python",
   "pygments_lexer": "ipython3",
   "version": "3.7.4"
  }
 },
 "nbformat": 4,
 "nbformat_minor": 4
}
