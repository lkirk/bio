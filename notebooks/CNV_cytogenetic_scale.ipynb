{
 "cells": [
  {
   "cell_type": "code",
   "execution_count": null,
   "metadata": {},
   "outputs": [],
   "source": [
    "import numpy as np\n",
    "import pysam\n",
    "import matplotlib.pyplot as plt\n",
    "import time"
   ]
  },
  {
   "cell_type": "code",
   "execution_count": null,
   "metadata": {},
   "outputs": [],
   "source": [
    "%matplotlib inline"
   ]
  },
  {
   "cell_type": "code",
   "execution_count": null,
   "metadata": {},
   "outputs": [],
   "source": [
    "plt.rcParams['figure.figsize'] = [8, 4]\n",
    "plt.rcParams['font.size'] = 12"
   ]
  },
  {
   "cell_type": "code",
   "execution_count": null,
   "metadata": {},
   "outputs": [],
   "source": [
    "def filter_reads(bam, include=0, exclude=0):\n",
    "    for read in bam:\n",
    "        flag = read.flag\n",
    "        if flag & include == include and flag & exclude == 0:\n",
    "            yield read\n",
    "\n",
    "\n",
    "def gen_read_pairs(bam):\n",
    "    pairs = dict()\n",
    "    for read in bam:\n",
    "        qname = read.qname\n",
    "        if qname in pairs:\n",
    "            if read.is_read1:\n",
    "                yield read, pairs.pop(qname)\n",
    "            elif read.is_read2:\n",
    "                yield pairs.pop(qname), read\n",
    "        else:\n",
    "            pairs[qname] = read\n",
    "\n",
    "\n",
    "def generate_bins(bam_header, bin_size):\n",
    "    for ref in bam_header.references:\n",
    "        ref_len = bam_header.get_reference_length(ref)\n",
    "        bin_bounds = [\n",
    "            (i, i + bin_size)\n",
    "            for i in range(0, ref_len, bin_size)\n",
    "        ]\n",
    "        if bin_bounds[-1][1] != ref_len:\n",
    "            bin_bounds.append((bin_bounds[-1][1], ref_len))\n",
    "        yield ref, bin_bounds\n",
    "\n",
    "\n",
    "def first(it):\n",
    "    i = iter(it)\n",
    "    try:\n",
    "        return next(i)\n",
    "    except StopIteration:\n",
    "        raise Exception(f'Expected at least one item, got {it}')\n",
    "\n",
    "\n",
    "def head(it, n=5):\n",
    "    for i, val in enumerate(it, 1):\n",
    "        if i > n:\n",
    "            break\n",
    "        yield val\n",
    "\n",
    "\n",
    "def one(it):\n",
    "    i = iter(it)\n",
    "    err_msg = f'Expected one item, got {it}'\n",
    "    try:\n",
    "        ret_val = next(i)\n",
    "    except StopIteration:\n",
    "        raise Exception(err_msg)\n",
    "    try:\n",
    "        next(i)\n",
    "    except StopIteration:\n",
    "        return ret_val\n",
    "    raise Exception(err_msg)\n",
    "\n",
    "\n",
    "def count_reads(bam_filename, binsize):\n",
    "    with pysam.AlignmentFile(bam_filename) as bam:\n",
    "        bins = dict(generate_bins(bam.header, binsize))\n",
    "        counts = {\n",
    "            contig: np.zeros(len(bins[contig]), dtype=np.uint64)\n",
    "            for contig in bins\n",
    "        }\n",
    "        rcg = gen_read_pairs(filter_reads(bam, include=2, exclude=1804))\n",
    "        f_read, r_read = sorted(next(rcg), key=lambda read: read.is_reverse)\n",
    "        start, stop = f_read.pos, r_read.reference_end\n",
    "        # always pick first bin\n",
    "        curr_bin = start // 50_000\n",
    "        # proper pair reads, no need to validate\n",
    "        curr_contig = bam.get_reference_name(f_read.reference_id)\n",
    "        count = counts[curr_contig][curr_bin]\n",
    "\n",
    "        for read_pair in rcg:\n",
    "            # TODO: same as above\n",
    "            f_read, r_read = sorted(read_pair, key=lambda read: read.is_reverse)\n",
    "            start, stop = f_read.pos, r_read.reference_end\n",
    "            count_bin = start // 50_000\n",
    "            count_contig = bam.get_reference_name(f_read.reference_id)\n",
    "\n",
    "            if count_bin != curr_bin or count_contig != curr_contig:\n",
    "                counts[curr_contig][curr_bin] = count\n",
    "                count = counts[count_contig][count_bin]\n",
    "                curr_bin = count_bin\n",
    "                curr_contig = count_contig\n",
    "            count += 1\n",
    "\n",
    "        return counts"
   ]
  },
  {
   "cell_type": "code",
   "execution_count": null,
   "metadata": {},
   "outputs": [],
   "source": [
    "in_bam = (\n",
    "    '../../data/ftp.1000genomes.ebi.ac.uk/vol1/ftp/phase3/data/'\n",
    "    'HG00096/alignment/HG00096.mapped.ILLUMINA.bwa.GBR.low_coverage.20120522.bam')"
   ]
  },
  {
   "cell_type": "code",
   "execution_count": null,
   "metadata": {},
   "outputs": [],
   "source": [
    "# with pysam.AlignmentFile(in_bam) as bam:\n",
    "#     for r1, r2 in gen_read_pairs(filter_reads(bam, include=2, exclude=1804)):\n",
    "#         pass"
   ]
  },
  {
   "cell_type": "code",
   "execution_count": null,
   "metadata": {},
   "outputs": [],
   "source": [
    "# plt.bar(list(bins.keys()), np.array([len(bins[contig]) for contig in bins]))\n",
    "# plt.xticks(rotation=90)\n",
    "# plt.show()"
   ]
  },
  {
   "cell_type": "code",
   "execution_count": null,
   "metadata": {},
   "outputs": [],
   "source": [
    "def first(it):\n",
    "    i = iter(it)\n",
    "    try:\n",
    "        return next(i)\n",
    "    except StopIteration:\n",
    "        raise Exception(f'Expected at least one item, got {it}')\n",
    "\n",
    "\n",
    "def head(it, n=5):\n",
    "    for i, val in enumerate(it, 1):\n",
    "        if i > n:\n",
    "            break\n",
    "        yield val\n",
    "\n",
    "\n",
    "def one(it):\n",
    "    i = iter(it)\n",
    "    err_msg = f'Expected one item, got {it}'\n",
    "    try:\n",
    "        ret_val = next(i)\n",
    "    except StopIteration:\n",
    "        raise Exception(err_msg)\n",
    "    try:\n",
    "        next(i)\n",
    "    except StopIteration:\n",
    "        return ret_val\n",
    "    raise Exception(err_msg)"
   ]
  },
  {
   "cell_type": "code",
   "execution_count": null,
   "metadata": {},
   "outputs": [],
   "source": [
    "start_time = time.time()\n",
    "readcounts = count_reads(in_bam, 50_000)\n",
    "end_time = time.time()\n",
    "print(f'time in seconds: {end_time - start_time}')"
   ]
  },
  {
   "cell_type": "code",
   "execution_count": null,
   "metadata": {},
   "outputs": [],
   "source": [
    "counts = readcounts['1']"
   ]
  },
  {
   "cell_type": "code",
   "execution_count": null,
   "metadata": {},
   "outputs": [],
   "source": [
    "plt.hist(counts, bins=100)\n",
    "plt.show()"
   ]
  },
  {
   "cell_type": "code",
   "execution_count": null,
   "metadata": {},
   "outputs": [],
   "source": [
    "for contig, counts in readcounts.items():\n",
    "#     plt.plot(counts / counts.sum(), 'C0.', alpha=.4)\n",
    "    normed_counts = counts / counts.sum()\n",
    "    baseline = normed_counts.mean()\n",
    "    ax = plt.subplot()\n",
    "    ax.plot(normed_counts, 'C0.', alpha=.4)\n",
    "    ax.plot(-(baseline - normed_counts), 'r', alpha=.4)\n",
    "    ax.set_title(contig)\n",
    "    plt.show()"
   ]
  },
  {
   "cell_type": "code",
   "execution_count": null,
   "metadata": {},
   "outputs": [],
   "source": []
  },
  {
   "cell_type": "code",
   "execution_count": null,
   "metadata": {},
   "outputs": [],
   "source": []
  },
  {
   "cell_type": "markdown",
   "metadata": {},
   "source": [
    "http://xarray.pydata.org/en/stable/indexing.html\n",
    "\n",
    "https://samtools.github.io/hts-specs/SAMv1.pdf\n",
    "\n",
    "https://github.com/pydata/xarray/issues/1603"
   ]
  },
  {
   "cell_type": "code",
   "execution_count": null,
   "metadata": {},
   "outputs": [],
   "source": [
    "normed_counts = counts / counts.sum()"
   ]
  },
  {
   "cell_type": "code",
   "execution_count": null,
   "metadata": {},
   "outputs": [],
   "source": [
    "normed_counts.mean()"
   ]
  },
  {
   "cell_type": "code",
   "execution_count": null,
   "metadata": {},
   "outputs": [],
   "source": [
    "plt.hist(normed_counts, bins=100)\n",
    "plt.axvline(normed_counts.mean(), c='r')\n",
    "plt.axvline(np.median(normed_counts), c='y')\n",
    "plt.show()"
   ]
  }
 ],
 "metadata": {
  "kernelspec": {
   "display_name": "Python 3",
   "language": "python",
   "name": "python3"
  },
  "language_info": {
   "codemirror_mode": {
    "name": "ipython",
    "version": 3
   },
   "file_extension": ".py",
   "mimetype": "text/x-python",
   "name": "python",
   "nbconvert_exporter": "python",
   "pygments_lexer": "ipython3",
   "version": "3.7.4"
  }
 },
 "nbformat": 4,
 "nbformat_minor": 2
}
