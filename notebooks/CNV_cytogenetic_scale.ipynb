{
 "cells": [
  {
   "cell_type": "code",
   "execution_count": null,
   "metadata": {},
   "outputs": [],
   "source": [
    "import pysam\n",
    "import xarray as xr\n",
    "import matplotlib.pyplot as plt"
   ]
  },
  {
   "cell_type": "code",
   "execution_count": null,
   "metadata": {},
   "outputs": [],
   "source": [
    "%matplotlib inline"
   ]
  },
  {
   "cell_type": "code",
   "execution_count": null,
   "metadata": {},
   "outputs": [],
   "source": [
    "plt.rcParams['figure.figsize'] = [8, 4]\n",
    "plt.rcParams['font.size'] = 12"
   ]
  },
  {
   "cell_type": "code",
   "execution_count": null,
   "metadata": {},
   "outputs": [],
   "source": [
    "def filter_reads(bam, include=0, exclude=0):\n",
    "    for read in bam:\n",
    "        flag = read.flag\n",
    "        if flag & include == include and flag & exclude == 0:\n",
    "            yield read\n",
    "\n",
    "\n",
    "def gen_read_pairs(bam):\n",
    "    pairs = dict()\n",
    "    for read in bam:\n",
    "        qname = read.qname\n",
    "        if qname in pairs:\n",
    "            if read.is_read1:\n",
    "                yield read, pairs[qname]\n",
    "                del[qname]\n",
    "            elif read.is_read2:\n",
    "                yield pairs[qname], read\n",
    "                del[qname]\n",
    "        else:\n",
    "            pairs[qname] = read\n",
    "            if read.is_read1:\n",
    "                pairs[qname] = read\n",
    "            elif read.is_read2:\n",
    "                pairs[qname] = read"
   ]
  },
  {
   "cell_type": "code",
   "execution_count": null,
   "metadata": {},
   "outputs": [],
   "source": [
    "in_bam = (\n",
    "    '../../data/ftp.1000genomes.ebi.ac.uk/vol1/ftp/phase3/data/'\n",
    "    'HG00096/alignment/HG00096.mapped.ILLUMINA.bwa.GBR.low_coverage.20120522.bam')\n",
    "\n",
    "with pysam.AlignmentFile(in_bam) as bam:\n",
    "    print(bam.references)\n",
    "    header = bam.header\n",
    "    for read1, read2 in gen_read_pairs(filter_reads(bam, include=2, exclude=1804)):\n",
    "        break"
   ]
  },
  {
   "cell_type": "code",
   "execution_count": null,
   "metadata": {},
   "outputs": [],
   "source": [
    "def generate_bins(bam_header, bin_size):\n",
    "    for ref in bam_header.references:\n",
    "        ref_len = bam_header.get_reference_length(ref)\n",
    "        bin_bounds = [\n",
    "            (i, i + bin_size)\n",
    "            for i in range(0, ref_len, bin_size)\n",
    "        ]\n",
    "        if bin_bounds[-1][1] != ref_len:\n",
    "            bin_bounds.append((bin_bounds[-1][1], ref_len))\n",
    "        yield ref, bin_bounds"
   ]
  },
  {
   "cell_type": "code",
   "execution_count": null,
   "metadata": {},
   "outputs": [],
   "source": [
    "def make_index(bins):\n",
    "    refs, starts, stops = [], [], []\n",
    "    for ref, bounds in bins:\n",
    "        for start, stop in bounds:\n",
    "            refs.append(ref)\n",
    "            starts.append(start)\n",
    "            stops.append(stop)\n",
    "    return {\n",
    "        'contig': refs,\n",
    "        'start': starts,\n",
    "        'stop': stops\n",
    "    }"
   ]
  },
  {
   "cell_type": "code",
   "execution_count": null,
   "metadata": {},
   "outputs": [],
   "source": [
    "idx = make_index(generate_bins(header, 50_000))"
   ]
  },
  {
   "cell_type": "code",
   "execution_count": null,
   "metadata": {},
   "outputs": [],
   "source": [
    "bins = dict(generate_bins(header, 50_000))"
   ]
  },
  {
   "cell_type": "code",
   "execution_count": null,
   "metadata": {},
   "outputs": [],
   "source": [
    "lengths = xr.DataArray([len(bins[contig]) for contig in bins], coords=idx, dims=list(idx.keys()))"
   ]
  },
  {
   "cell_type": "code",
   "execution_count": null,
   "metadata": {},
   "outputs": [],
   "source": [
    "plt.bar(list(bins.keys()), lengths.data)\n",
    "plt.xticks(rotation=90)\n",
    "plt.show()"
   ]
  },
  {
   "cell_type": "code",
   "execution_count": null,
   "metadata": {},
   "outputs": [],
   "source": [
    "print(*read1.to_string().split('\\t')[:9], sep='\\t')"
   ]
  },
  {
   "cell_type": "code",
   "execution_count": null,
   "metadata": {},
   "outputs": [],
   "source": [
    "print(*read2.to_string().split('\\t')[:9], sep='\\t')"
   ]
  },
  {
   "cell_type": "code",
   "execution_count": null,
   "metadata": {},
   "outputs": [],
   "source": [
    "def count_reads(bam, binsize):\n",
    "    with pysam.AlignmentFile(in_bam) as bam:\n",
    "        for read_pair in gen_read_pairs(filter_reads(bam, include=2, exclude=1804)):\n",
    "            f_read, r_read = sorted(read_pair, key=lambda read: read.is_reverse)\n",
    "#             f_read, r_read = read_pair\n",
    "            yield f_read, r_read"
   ]
  },
  {
   "cell_type": "code",
   "execution_count": null,
   "metadata": {},
   "outputs": [],
   "source": [
    "cri = count_reads(in_bam, 50_000)\n",
    "counts = np.zeros(len(bins['1']), dtype=np.uint64)\n",
    "count = 0\n",
    "curr_bin = 0\n",
    "for read1, read2 in cri:\n",
    "    start, stop = read1.pos, read2.reference_end\n",
    "    # if spanning, pick first bin\n",
    "    _bin = sorted({start // 50_000, stop // 50_000})[0]\n",
    "    if _bin != curr_bin:\n",
    "        counts[_bin] = count\n",
    "        count = 0\n",
    "        curr_bin = _bin\n",
    "    count += 1\n",
    "    if read1.rname != 0:\n",
    "        break"
   ]
  },
  {
   "cell_type": "code",
   "execution_count": null,
   "metadata": {},
   "outputs": [],
   "source": [
    "counts.sum()"
   ]
  },
  {
   "cell_type": "code",
   "execution_count": null,
   "metadata": {},
   "outputs": [],
   "source": [
    "read1.pos // 50_000"
   ]
  },
  {
   "cell_type": "code",
   "execution_count": null,
   "metadata": {},
   "outputs": [],
   "source": [
    "read2.reference_end - read1.pos"
   ]
  },
  {
   "cell_type": "code",
   "execution_count": null,
   "metadata": {},
   "outputs": [],
   "source": [
    "read1.pos + read1.tlen"
   ]
  },
  {
   "cell_type": "code",
   "execution_count": null,
   "metadata": {},
   "outputs": [],
   "source": [
    "plt.hist(counts, bins=100)\n",
    "plt.show()"
   ]
  },
  {
   "cell_type": "code",
   "execution_count": null,
   "metadata": {},
   "outputs": [],
   "source": [
    "import pandas as pd"
   ]
  },
  {
   "cell_type": "code",
   "execution_count": null,
   "metadata": {},
   "outputs": [],
   "source": [
    "# df = pd.DataFrame([(contig, start, stop) for contig in bins for start, stop in bins[contig] if contig == '1'], columns=['contig', 'start', 'stop'])"
   ]
  },
  {
   "cell_type": "code",
   "execution_count": null,
   "metadata": {},
   "outputs": [],
   "source": [
    "xr.DataArray(counts, [('intervals', list(df.index))])"
   ]
  },
  {
   "cell_type": "code",
   "execution_count": null,
   "metadata": {},
   "outputs": [],
   "source": [
    "# xr.DataArray(counts, [('intervals', [(contig, start, stop) for contig in bins for start, stop in bins[contig] if contig == '1'])])"
   ]
  },
  {
   "cell_type": "code",
   "execution_count": null,
   "metadata": {},
   "outputs": [],
   "source": [
    "plt.plot(counts / counts.sum(), 'C0.', alpha=.4)\n",
    "plt.show()"
   ]
  },
  {
   "cell_type": "markdown",
   "metadata": {},
   "source": [
    "http://xarray.pydata.org/en/stable/indexing.html\n",
    "\n",
    "https://samtools.github.io/hts-specs/SAMv1.pdf\n",
    "\n",
    "https://github.com/pydata/xarray/issues/1603"
   ]
  },
  {
   "cell_type": "code",
   "execution_count": null,
   "metadata": {},
   "outputs": [],
   "source": [
    "normed_counts = counts / counts.sum()"
   ]
  },
  {
   "cell_type": "code",
   "execution_count": null,
   "metadata": {},
   "outputs": [],
   "source": [
    "normed_counts.mean()"
   ]
  },
  {
   "cell_type": "code",
   "execution_count": null,
   "metadata": {},
   "outputs": [],
   "source": [
    "plt.hist(normed_counts, bins=100)\n",
    "plt.axvline(normed_counts.mean(), c='r')\n",
    "plt.axvline(np.median(normed_counts), c='y')\n",
    "plt.show()"
   ]
  },
  {
   "cell_type": "code",
   "execution_count": null,
   "metadata": {},
   "outputs": [],
   "source": [
    "ds = xr.Dataset(\n",
    "    coords=dict(\n",
    "        pos=list(range(len(counts))),\n",
    "        sample=['HG00096'],\n",
    "    ),\n",
    "    data_vars=dict(\n",
    "        contig=('pos', np.array(contigs, dtype=np.str)),\n",
    "        start=('pos', np.array(starts, dtype=np.uint32)),\n",
    "        end=('pos', np.array(ends, dtype=np.uint32)),\n",
    "        depth=(\n",
    "            ('pos', 'sample'),\n",
    "            np.array([counts], dtype=np.uint64).transpose()),\n",
    "    )\n",
    ")\n",
    "ds"
   ]
  },
  {
   "cell_type": "code",
   "execution_count": null,
   "metadata": {},
   "outputs": [],
   "source": [
    "np.append()"
   ]
  },
  {
   "cell_type": "code",
   "execution_count": null,
   "metadata": {},
   "outputs": [],
   "source": [
    "bins['1'][-3:]"
   ]
  },
  {
   "cell_type": "code",
   "execution_count": null,
   "metadata": {},
   "outputs": [],
   "source": [
    "np."
   ]
  },
  {
   "cell_type": "code",
   "execution_count": null,
   "metadata": {},
   "outputs": [],
   "source": [
    "def generate_bins(bam_header, bin_size):\n",
    "    starts, stops, contigs = [], [], []\n",
    "    for ref in bam_header.references:\n",
    "        ref_len = bam_header.get_reference_length(ref)\n",
    "        start = np.arange(0, ref_len, bin_size)\n",
    "        stop = np.append(np.arange(bin_size, ref_len, bin_size), ref_len)\n",
    "        contig = np.array([ref] * start.shape[0])\n",
    "        starts.append(start)\n",
    "        stops.append(stops)\n",
    "        contigs.append(contig)\n",
    "    return np.hstack(contigs), np.hstack(starts), np.hstack(stops)"
   ]
  },
  {
   "cell_type": "code",
   "execution_count": null,
   "metadata": {},
   "outputs": [],
   "source": [
    "# generate_bins(header, 50_000)"
   ]
  }
 ],
 "metadata": {
  "kernelspec": {
   "display_name": "Python 3",
   "language": "python",
   "name": "python3"
  },
  "language_info": {
   "codemirror_mode": {
    "name": "ipython",
    "version": 3
   },
   "file_extension": ".py",
   "mimetype": "text/x-python",
   "name": "python",
   "nbconvert_exporter": "python",
   "pygments_lexer": "ipython3",
   "version": "3.7.4"
  }
 },
 "nbformat": 4,
 "nbformat_minor": 2
}
